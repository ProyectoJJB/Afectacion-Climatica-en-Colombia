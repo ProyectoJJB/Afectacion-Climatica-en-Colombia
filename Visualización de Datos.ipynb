{
 "cells": [
  {
   "cell_type": "code",
   "execution_count": null,
   "metadata": {
    "cellView": "form",
    "colab": {
     "base_uri": "https://localhost:8080/"
    },
    "id": "kxO9tAjbEEkY",
    "outputId": "bfe324d0-598e-4d1a-ab68-538ca7dd2450"
   },
   "outputs": [
    {
     "name": "stdout",
     "output_type": "stream",
     "text": [
      "Requirement already satisfied: sodapy in /usr/local/lib/python3.10/dist-packages (2.2.0)\n",
      "Requirement already satisfied: requests>=2.28.1 in /usr/local/lib/python3.10/dist-packages (from sodapy) (2.32.3)\n",
      "Requirement already satisfied: charset-normalizer<4,>=2 in /usr/local/lib/python3.10/dist-packages (from requests>=2.28.1->sodapy) (3.4.0)\n",
      "Requirement already satisfied: idna<4,>=2.5 in /usr/local/lib/python3.10/dist-packages (from requests>=2.28.1->sodapy) (3.10)\n",
      "Requirement already satisfied: urllib3<3,>=1.21.1 in /usr/local/lib/python3.10/dist-packages (from requests>=2.28.1->sodapy) (2.2.3)\n",
      "Requirement already satisfied: certifi>=2017.4.17 in /usr/local/lib/python3.10/dist-packages (from requests>=2.28.1->sodapy) (2024.8.30)\n",
      "Requirement already satisfied: unidecode in /usr/local/lib/python3.10/dist-packages (1.3.8)\n"
     ]
    },
    {
     "name": "stderr",
     "output_type": "stream",
     "text": [
      "WARNING:root:Requests made without an app_token will be subject to strict throttling limits.\n"
     ]
    },
    {
     "name": "stdout",
     "output_type": "stream",
     "text": [
      "Drive already mounted at /content/drive; to attempt to forcibly remount, call drive.mount(\"/content/drive\", force_remount=True).\n"
     ]
    }
   ],
   "source": [
    "# @title Setup\n",
    "!pip install sodapy\n",
    "!pip install unidecode\n",
    "import pandas as pd\n",
    "import requests\n",
    "from sodapy import Socrata\n",
    "from google.colab import drive\n",
    "import os\n",
    "import time\n",
    "from IPython.display import display, Markdown\n",
    "from google.colab import drive\n",
    "from unidecode import unidecode\n",
    "import json\n",
    "import folium\n",
    "import plotly.express as px\n",
    "from sklearn.model_selection import train_test_split\n",
    "from sklearn.ensemble import RandomForestRegressor\n",
    "from sklearn.metrics import mean_squared_error, r2_score\n",
    "import numpy as np\n",
    "drive.mount('/content/drive')"
   ]
  },
  {
   "cell_type": "code",
   "execution_count": null,
   "metadata": {
    "cellView": "form",
    "id": "QxfrloqBEkQ-"
   },
   "outputs": [],
   "source": [
    "# @title Carga de datos y dfs\n",
    "evals = pd.read_csv('/content/drive/My Drive/DANE/CSVs listos/evals/evals.csv')\n",
    "evals['Código Departamento'] = evals['Código Departamento'].astype(str).str.zfill(2)\n",
    "\n",
    "url = 'https://gist.githubusercontent.com/john-guerra/43c7656821069d00dcbc/raw/3aadedf47badbdac823b00dbe259f6bc6d9e1899/colombia.geo.json'\n",
    "colombia_geojson = requests.get(url).json()\n",
    "\n",
    "evalsSembA = evals[['Año', 'Código Departamento', 'Área Sembrada (ha)']]\n",
    "evalsSembA = evalsSembA.groupby(['Año', 'Código Departamento'])['Área Sembrada (ha)'].sum().reset_index()\n",
    "evalsSemb = evalsSembA.groupby(['Código Departamento'])['Área Sembrada (ha)'].mean().reset_index()\n",
    "\n",
    "evalsCosecA = evals[['Año', 'Código Departamento', 'Área Cosechada (ha)']]\n",
    "evalsCosecA = evalsCosecA.groupby(['Año', 'Código Departamento'])['Área Cosechada (ha)'].sum().reset_index()\n",
    "evalsCosec = evalsCosecA.groupby(['Código Departamento'])['Área Cosechada (ha)'].mean().reset_index()\n",
    "\n",
    "evalsProdA = evals[['Año', 'Código Departamento', 'Producción (ton/ha)']]\n",
    "evalsProdA = evalsProdA.groupby(['Año', 'Código Departamento'])['Producción (ton/ha)'].sum().reset_index()\n",
    "evalsProd = evalsProdA.groupby(['Código Departamento'])['Producción (ton/ha)'].mean().reset_index()\n",
    "\n",
    "evalsRendA = evals[['Año', 'Código Departamento', 'Rendimiento (ton_ha)']]\n",
    "evalsRendA = evalsRendA.groupby(['Año', 'Código Departamento'])['Rendimiento (ton_ha)'].sum().reset_index()\n",
    "evalsRend = evalsRendA.groupby(['Código Departamento'])['Rendimiento (ton_ha)'].mean().reset_index()\n",
    "\n",
    "evalsIndCosec = evals[['Año', 'Código Departamento', 'Área Sembrada (ha)', 'Área Cosechada (ha)']].copy()\n",
    "\n",
    "evalsIndCosec['Índice de Cosecha'] = evalsIndCosec.apply(\n",
    "    lambda row: row['Área Cosechada (ha)'] / row['Área Sembrada (ha)'] if row['Área Sembrada (ha)'] > 0 else np.nan, axis=1\n",
    ")\n",
    "\n",
    "evalsIndCosecA = evalsIndCosec[['Año', 'Código Departamento', 'Índice de Cosecha']]\n",
    "evalsIndCosecA = evalsIndCosecA.groupby(['Año', 'Código Departamento'])['Índice de Cosecha'].mean().reset_index()\n",
    "\n",
    "evalsIndCosec = evalsIndCosecA.groupby(['Código Departamento'])['Índice de Cosecha'].mean().reset_index()"
   ]
  },
  {
   "cell_type": "markdown",
   "metadata": {
    "id": "blcz8St22PiA"
   },
   "source": [
    "## Modelo"
   ]
  },
  {
   "cell_type": "markdown",
   "metadata": {
    "id": "FXshhtvH6puf"
   },
   "source": [
    "### Preparación de datos"
   ]
  },
  {
   "cell_type": "code",
   "execution_count": null,
   "metadata": {
    "id": "GgHeNtFhctEJ"
   },
   "outputs": [],
   "source": [
    "def ajustarCoordenadas(lat, lon):\n",
    "  latAjustada = lat\n",
    "  lonAjustada = lon\n",
    "  return latAjustada, lonAjustada"
   ]
  },
  {
   "cell_type": "code",
   "execution_count": null,
   "metadata": {
    "colab": {
     "base_uri": "https://localhost:8080/"
    },
    "id": "gxEAktxybcpl",
    "outputId": "44c9808d-5c01-4274-aea9-b890bb85a125"
   },
   "outputs": [],
   "source": [
    "tempAntioquia = pd.read_csv('/content/drive/My Drive/DANE/CSVs listos/temp/tempANTIOQUIA.csv')\n",
    "tempAntioquia['fechaobservacion'] = pd.to_datetime(tempAntioquia['fechaobservacion'])\n",
    "tempAntioquia['Año'] = tempAntioquia['fechaobservacion'].dt.year\n",
    "tempAntioquia['Mes'] = tempAntioquia['fechaobservacion'].dt.month\n",
    "\n",
    "tempAntioquiaG = tempAntioquia.groupby(['codigoestacion', 'latitud', 'longitud', 'departamento', 'Mes'])['valorobservado'].mean().reset_index()\n",
    "tempAntioquiaG"
   ]
  },
  {
   "cell_type": "code",
   "execution_count": null,
   "metadata": {
    "colab": {
     "base_uri": "https://localhost:8080/"
    },
    "id": "TS9N7_OTgDDY",
    "outputId": "fa008be6-36dd-4e5f-d8ec-d8b3e21aaa18"
   },
   "outputs": [],
   "source": [
    "velAntioquia = pd.read_csv('/content/drive/My Drive/DANE/CSVs listos/vel/velANTIOQUIA.csv')\n",
    "velAntioquia['fechaobservacion'] = pd.to_datetime(velAntioquia['fechaobservacion'])\n",
    "velAntioquia['Año'] = velAntioquia['fechaobservacion'].dt.year\n",
    "velAntioquia['Mes'] = velAntioquia['fechaobservacion'].dt.month\n",
    "\n",
    "velAntioquiaG = velAntioquia.groupby(['codigoestacion', 'latitud', 'longitud', 'departamento', 'Año', 'Mes'])['valorobservado'].mean().reset_index()\n",
    "velAntioquiaG"
   ]
  },
  {
   "cell_type": "code",
   "execution_count": null,
   "metadata": {
    "cellView": "form",
    "id": "CxI6uhOWlBX7"
   },
   "outputs": [],
   "source": [
    "# @title Diccionarios\n",
    "departamentos = [\n",
    "'AMAZONAS',\n",
    "'ANTIOQUIA',\n",
    "'ARAUCA',\n",
    "'ARCHIPIELAGO DE SAN ANDRES PROVIDENCIA Y SANTA CATALINA',\n",
    "'ARCHIPIELAGO DE SAN ANDRES, PROVIDENCIA Y SANTA CATALINA',\n",
    "'ARCHIPIÉLAGO DE SAN ANDRES PROVIDENCIA Y SANTA CATALINA',\n",
    "'ATLANTICO',\n",
    "'ATLÁNTICO',\n",
    "'BOGOTA',\n",
    "'BOGOTA D.C.',\n",
    "'BOGOTÁ',\n",
    "'BOLIVAR',\n",
    "'BOLÍVAR',\n",
    "'BOYACÁ',\n",
    "'CALDAS',\n",
    "'CAQUETA',\n",
    "'CAQUETÁ',\n",
    "'CASANARE',\n",
    "'CAUCA',\n",
    "'CESAR',\n",
    "'CHOCO',\n",
    "'CHOCÓ',\n",
    "'CORDOBA',\n",
    "'CUNDINAMARCA',\n",
    "'CÓRDOBA',\n",
    "'GUAINÍA',\n",
    "'GUAVIARE',\n",
    "'HUILA',\n",
    "'LA GUAJIRA',\n",
    "'MAGDALENA',\n",
    "'META',\n",
    "'NARINO',\n",
    "'NARIÑO',\n",
    "'NORTE DE SANTANDER',\n",
    "'PUTUMAYO',\n",
    "'QUINDÍO',\n",
    "'RISARALDA',\n",
    "'SAN ANDRÉS PROVIDENCIA',\n",
    "'SANTANDER',\n",
    "'SUCRE',\n",
    "'TOLIMA',\n",
    "'VALLE DEL CAUCA',\n",
    "'VICHADA'\n",
    "]\n",
    "\n",
    "dictDeps = {\n",
    "  'Antioquia': '05',\n",
    "  'Atlantico': '08',\n",
    "  'Bolivar': '13',\n",
    "  'Bogota': '11',\n",
    "  'Bogota D.C.':'11',\n",
    "  'Boyaca': '15',\n",
    "  'Caldas': '17',\n",
    "  'Caqueta': '18',\n",
    "  'Cauca': '19',\n",
    "  'Cesar': '20',\n",
    "  'Cordoba': '23',\n",
    "  'Cundinamarca': '25',\n",
    "  'Choco': '27',\n",
    "  'Huila': '41',\n",
    "  'La Guajira': '44',\n",
    "  'Magdalena': '47',\n",
    "  'Meta': '50',\n",
    "  'Nariño': '52',\n",
    "  'Narino': '52',\n",
    "  'Norte De Santander': '54',\n",
    "  'Quindio': '63',\n",
    "  'Risaralda': '66',\n",
    "  'Santander': '68',\n",
    "  'Sucre': '70',\n",
    "  'Tolima': '73',\n",
    "  'Valle Del Cauca': '76',\n",
    "  'Arauca': '81',\n",
    "  'Casanare': '85',\n",
    "  'Putumayo': '86',\n",
    "  'San Andres Y Providencia': '88',\n",
    "  'San Andres Providencia': '88',\n",
    "  'Archipielago De San Andres Providencia Y Santa Catalina': '88',\n",
    "  'Archipielago De San Andres, Providencia Y Santa Catalina': '88',\n",
    "  'Amazonas': '91',\n",
    "  'Guainia': '94',\n",
    "  'Guaviare': '95',\n",
    "  'Vaupes': '97',\n",
    "  'Vichada': '99'\n",
    "}"
   ]
  },
  {
   "cell_type": "code",
   "execution_count": null,
   "metadata": {
    "colab": {
     "base_uri": "https://localhost:8080/"
    },
    "id": "uVkLzSbLiwgW",
    "outputId": "4908df2c-af8d-4209-e23f-3234129c69fa"
   },
   "outputs": [],
   "source": [
    "dfTemp = pd.DataFrame()\n",
    "for departamento in departamentos:\n",
    "  df = pd.read_csv(f'/content/drive/My Drive/DANE/CSVs listos/temp/temp{departamento}.csv')\n",
    "  df['fechaobservacion'] = pd.to_datetime(df['fechaobservacion'])\n",
    "  df['Año'] = df['fechaobservacion'].dt.year\n",
    "\n",
    "  df = df.groupby(['departamento', 'Año'])['valorobservado'].mean().reset_index()\n",
    "\n",
    "  dfTemp = pd.concat([dfTemp, df])\n",
    "dfTemp"
   ]
  },
  {
   "cell_type": "code",
   "execution_count": null,
   "metadata": {
    "colab": {
     "base_uri": "https://localhost:8080/"
    },
    "id": "B3jicAfgmh2s",
    "outputId": "ffafa679-6609-4feb-a3fa-08d801b018ca"
   },
   "outputs": [],
   "source": [
    "dfVel = pd.DataFrame()\n",
    "for departamento in departamentos:\n",
    "  df = pd.read_csv(f'/content/drive/My Drive/DANE/CSVs listos/vel/vel{departamento}.csv')\n",
    "  df['fechaobservacion'] = pd.to_datetime(df['fechaobservacion'])\n",
    "  df['Año'] = df['fechaobservacion'].dt.year\n",
    "\n",
    "  df = df.groupby(['departamento', 'Año'])['valorobservado'].mean().reset_index()\n",
    "\n",
    "  dfVel = pd.concat([dfVel, df])\n",
    "dfVel"
   ]
  },
  {
   "cell_type": "markdown",
   "metadata": {
    "id": "1q1xSMC86zDP"
   },
   "source": [
    "### Entrenamiento del Modelo"
   ]
  },
  {
   "cell_type": "code",
   "execution_count": null,
   "metadata": {
    "cellView": "form",
    "id": "fQbYdcFbqVVI"
   },
   "outputs": [],
   "source": [
    "# @title Carga de datos de Drive\n",
    "dfTemp = pd.read_csv('/content/drive/My Drive/DANE/CSVs listos/temp/tempResumen.csv')\n",
    "dfVel = pd.read_csv('/content/drive/My Drive/DANE/CSVs listos/vel/velResumen.csv')\n",
    "\n",
    "# dfTemp['departamento'] = dfTemp['departamento'].apply(unidecode)\n",
    "# dfTemp['departamento'] = dfTemp['departamento'].str.title()\n",
    "# dfTemp['CodDep'] = dfTemp['departamento'].map(dictDeps)\n",
    "\n",
    "# dfVel['departamento'] = dfVel['departamento'].apply(unidecode)\n",
    "# dfVel['departamento'] = dfVel['departamento'].str.title()\n",
    "# dfVel['CodDep'] = dfVel['departamento'].map(dictDeps)\n",
    "\n",
    "# dfTemp['CodDep'] = dfTemp['CodDep'].astype(str).str.zfill(2)\n",
    "# dfVel['CodDep'] = dfVel['CodDep'].astype(str).str.zfill(2)"
   ]
  },
  {
   "cell_type": "code",
   "execution_count": null,
   "metadata": {
    "cellView": "form",
    "colab": {
     "base_uri": "https://localhost:8080/",
     "height": 423
    },
    "id": "uLgciqSenjOE",
    "outputId": "0da775f4-e3cb-4808-f3e6-eab5d0a93538"
   },
   "outputs": [],
   "source": [
    "# @title DataFrame de entrenamiento\n",
    "dfModelo = pd.merge(dfTemp[['CodDep', 'Año', 'valorobservado']], dfVel[['CodDep', 'Año', 'valorobservado']], on=['CodDep', 'Año'], suffixes=('_temp', '_vel'))\n",
    "dfModelo['CodDep'] = dfModelo['CodDep'].astype(str).str.zfill(2)\n",
    "dfModelo = pd.merge(dfModelo, evalsRendA, left_on=['CodDep', 'Año'], right_on=['Código Departamento', 'Año'], how='left')\n",
    "dfModelo = dfModelo.drop(columns=['Código Departamento'])\n",
    "dfModelo = dfModelo.rename(columns={'Rendimiento (ton_ha)': 'rendimiento'})\n",
    "dfModelo = pd.merge(dfModelo, evalsIndCosecA, left_on=['CodDep', 'Año'], right_on=['Código Departamento', 'Año'], how='left')\n",
    "dfModelo = dfModelo.dropna()\n",
    "dfModelo = dfModelo[['Año', 'CodDep', 'valorobservado_temp', 'valorobservado_vel', 'Índice de Cosecha', 'rendimiento']]\n",
    "dfModelo"
   ]
  },
  {
   "cell_type": "code",
   "execution_count": null,
   "metadata": {
    "cellView": "form",
    "colab": {
     "base_uri": "https://localhost:8080/",
     "height": 580
    },
    "id": "mOYnzPTeDimg",
    "outputId": "513e409d-7ae6-415d-98bb-8bdedc0d3c18"
   },
   "outputs": [],
   "source": [
    "# @title Entrenamiento\n",
    "resultados_por_departamento = {}\n",
    "\n",
    "departamentos = dfModelo['CodDep'].unique()\n",
    "\n",
    "for dep in departamentos:\n",
    "    df_dep = dfModelo[dfModelo['CodDep'] == dep]\n",
    "\n",
    "    X = df_dep[['Año', 'valorobservado_temp', 'valorobservado_vel', 'Índice de Cosecha']]\n",
    "    y = df_dep['rendimiento']\n",
    "\n",
    "    X_train, X_test, y_train, y_test = train_test_split(X, y, test_size=0.2, random_state=42)\n",
    "\n",
    "    model = RandomForestRegressor(n_estimators=100, random_state=42)\n",
    "    model.fit(X_train, y_train)\n",
    "\n",
    "    y_pred = model.predict(X_test)\n",
    "\n",
    "    mse = mean_squared_error(y_test, y_pred)\n",
    "    r2 = r2_score(y_test, y_pred)\n",
    "\n",
    "    riesgo_agricola = (y_pred.max() - y_pred) / (y_pred.max() - y_pred.min())\n",
    "\n",
    "    resultados_dep = X_test.copy()\n",
    "    resultados_dep['prediccion_rendimiento'] = y_pred\n",
    "    resultados_dep['riesgo_agricola'] = riesgo_agricola\n",
    "    resultados_dep['CodDep'] = dep\n",
    "\n",
    "    resultados_por_departamento[dep] = {\n",
    "        'mse': mse,\n",
    "        'r2': r2,\n",
    "        'resultados': resultados_dep\n",
    "    }\n",
    "\n",
    "resultados_finales = pd.concat([resultados_por_departamento[dep]['resultados'] for dep in departamentos])\n",
    "\n",
    "riesgo_por_departamento = resultados_finales.groupby(['Año', 'CodDep'])[['riesgo_agricola']].mean().reset_index()\n",
    "\n",
    "print(\"Riesgo agrícola por departamento y año:\")\n",
    "display(riesgo_por_departamento)"
   ]
  },
  {
   "cell_type": "markdown",
   "metadata": {
    "id": "WEetaRc01vXH"
   },
   "source": [
    "### Precipitaciones"
   ]
  },
  {
   "cell_type": "code",
   "execution_count": null,
   "metadata": {
    "id": "OGvJwOkd3hYv"
   },
   "outputs": [],
   "source": []
  },
  {
   "cell_type": "markdown",
   "metadata": {
    "id": "Q6VEaswm1L7C"
   },
   "source": [
    "### Velocidad del Viento"
   ]
  },
  {
   "cell_type": "code",
   "execution_count": null,
   "metadata": {
    "id": "xwXv6bse3h85"
   },
   "outputs": [],
   "source": []
  },
  {
   "cell_type": "markdown",
   "metadata": {
    "id": "nWQketT7bWnL"
   },
   "source": [
    "## Mapas"
   ]
  },
  {
   "cell_type": "code",
   "execution_count": null,
   "metadata": {
    "cellView": "form",
    "colab": {
     "base_uri": "https://localhost:8080/"
    },
    "collapsed": true,
    "id": "mc8jq_f9FKYk",
    "outputId": "95f25f3d-c825-429f-a5b7-0155234a3413"
   },
   "outputs": [],
   "source": [
    "# @title Mapa Folium\n",
    "with open('/content/drive/MyDrive/DANE/colombia.geojson', 'r') as f:\n",
    "    colombia_geojson = json.load(f)\n",
    "\n",
    "m = folium.Map(location=[4.5709, -74.2973], zoom_start=6)\n",
    "# m = folium.Map(location=[4.5709, -74.2973], zoom_start=6, width='50%', height='70%')\n",
    "\n",
    "# area_dict = evalsSemb.set_index('Código Departamento')['Área Sembrada (ha)'].to_dict()\n",
    "\n",
    "folium.Choropleth(\n",
    "    geo_data=colombia_geojson,\n",
    "    data=evalsSemb,\n",
    "    columns=['Código Departamento', 'Área Sembrada (ha)'],\n",
    "    key_on='feature.properties.DPTO_CCDGO',\n",
    "    fill_color='YlGnBu',\n",
    "    fill_opacity=0.7,\n",
    "    line_opacity=0.2,\n",
    "    legend_name='Área Sembrada (ha)'\n",
    ").add_to(m)\n",
    "\n",
    "m"
   ]
  },
  {
   "cell_type": "markdown",
   "metadata": {
    "id": "0dlwLD1y09AW"
   },
   "source": [
    "### Área Sembrada"
   ]
  },
  {
   "cell_type": "code",
   "execution_count": null,
   "metadata": {
    "cellView": "form",
    "colab": {
     "base_uri": "https://localhost:8080/",
     "height": 717
    },
    "id": "JFQxYpwgLrni",
    "outputId": "75ed0603-4516-4950-b94b-3889f4678115"
   },
   "outputs": [],
   "source": [
    "# @title Promedio de Área Sembrada por Departamento\n",
    "\n",
    "for feature in colombia_geojson['features']:\n",
    "    feature['id'] = feature['properties']['DPTO']\n",
    "\n",
    "fig = px.choropleth(\n",
    "    evalsSemb,\n",
    "    geojson=colombia_geojson,\n",
    "    locations='Código Departamento',\n",
    "    featureidkey='properties.DPTO',\n",
    "    color='Área Sembrada (ha)',\n",
    "    color_continuous_scale=\"YlGnBu\",\n",
    "    title=\"Área Sembrada (ha) por Departamento\"\n",
    ")\n",
    "\n",
    "fig.update_geos(\n",
    "    visible=False,\n",
    "    fitbounds=\"locations\",\n",
    "    projection_type=\"mercator\"\n",
    ")\n",
    "\n",
    "fig.update_layout(\n",
    "    width=700,\n",
    "    height=700\n",
    ")\n",
    "\n",
    "fig.show()"
   ]
  },
  {
   "cell_type": "code",
   "execution_count": null,
   "metadata": {
    "cellView": "form",
    "colab": {
     "background_save": true,
     "base_uri": "https://localhost:8080/",
     "height": 717
    },
    "id": "ZshEpIeHPYkj",
    "outputId": "37f81bc6-99d9-4447-ba2c-da58505af477"
   },
   "outputs": [],
   "source": [
    "# @title Promedio de Área Sembrada por Departamento (anual)\n",
    "\n",
    "min_value = evalsSembA['Área Sembrada (ha)'].min()\n",
    "max_value = evalsSembA['Área Sembrada (ha)'].max()\n",
    "\n",
    "fig = px.choropleth(\n",
    "    evalsSembA,\n",
    "    geojson=colombia_geojson,\n",
    "    locations='Código Departamento',\n",
    "    featureidkey='properties.DPTO',\n",
    "    color='Área Sembrada (ha)',\n",
    "    color_continuous_scale=\"YlGnBu\",\n",
    "    range_color=(min_value, max_value),\n",
    "    animation_frame='Año',\n",
    "    title=\"Área Sembrada (ha) por Departamento (Evolución Anual)\"\n",
    ")\n",
    "\n",
    "fig.update_geos(\n",
    "    visible=False,\n",
    "    fitbounds=\"locations\",\n",
    "    projection_type=\"mercator\"\n",
    ")\n",
    "\n",
    "fig.update_layout(\n",
    "    width=700,\n",
    "    height=700,\n",
    "    sliders=[{\n",
    "        \"steps\": [{\"label\": str(year), \"method\": \"animate\", \"args\": [[str(year)], {\"mode\": \"immediate\"}]} for year in evalsSembA['Año'].unique()],\n",
    "        \"currentvalue\": {\"prefix\": \"Año: \"}\n",
    "    }]\n",
    ")\n",
    "\n",
    "fig.show()"
   ]
  },
  {
   "cell_type": "markdown",
   "metadata": {
    "id": "LbCBR0A31Cce"
   },
   "source": [
    "### Rendimiento"
   ]
  },
  {
   "cell_type": "code",
   "execution_count": null,
   "metadata": {
    "cellView": "form",
    "colab": {
     "base_uri": "https://localhost:8080/"
    },
    "id": "dscZfYrvaL1b",
    "outputId": "eb011c99-b71d-4be9-8e13-42439fdaf96c"
   },
   "outputs": [],
   "source": [
    "# @title Promedio del Rendimiento por Departamento\n",
    "\n",
    "for feature in colombia_geojson['features']:\n",
    "    feature['id'] = feature['properties']['DPTO']\n",
    "\n",
    "fig = px.choropleth(\n",
    "    evalsRend,\n",
    "    geojson=colombia_geojson,\n",
    "    locations='Código Departamento',\n",
    "    featureidkey='properties.DPTO',\n",
    "    color='Rendimiento (ton_ha)',\n",
    "    color_continuous_scale=\"YlGnBu\",\n",
    "    title=\"Rendimiento (ton_ha) por Departamento\"\n",
    ")\n",
    "\n",
    "fig.update_geos(\n",
    "    visible=False,\n",
    "    fitbounds=\"locations\",\n",
    "    projection_type=\"mercator\"\n",
    ")\n",
    "\n",
    "fig.update_layout(\n",
    "    width=700,\n",
    "    height=700\n",
    ")\n",
    "\n",
    "fig.show()"
   ]
  },
  {
   "cell_type": "code",
   "execution_count": null,
   "metadata": {
    "cellView": "form",
    "colab": {
     "base_uri": "https://localhost:8080/"
    },
    "id": "Pv8ji8eFaQ8K",
    "outputId": "d3bb3275-d0f3-4477-9c94-81fb11ad9a58"
   },
   "outputs": [],
   "source": [
    "# @title Promedio del Rendimiento por Departamento (anual)\n",
    "\n",
    "min_value = evalsRendA['Rendimiento (ton_ha)'].min()\n",
    "max_value = evalsRendA['Rendimiento (ton_ha)'].max()\n",
    "\n",
    "fig = px.choropleth(\n",
    "    evalsRendA,\n",
    "    geojson=colombia_geojson,\n",
    "    locations='Código Departamento',\n",
    "    featureidkey='properties.DPTO',\n",
    "    color='Rendimiento (ton_ha)',\n",
    "    color_continuous_scale=\"YlGnBu\",\n",
    "    range_color=(min_value, max_value),\n",
    "    animation_frame='Año',\n",
    "    title=\"Rendimiento (ton_ha) por Departamento (Evolución Anual)\"\n",
    ")\n",
    "\n",
    "fig.update_geos(\n",
    "    visible=False,\n",
    "    fitbounds=\"locations\",\n",
    "    projection_type=\"mercator\"\n",
    ")\n",
    "\n",
    "fig.update_layout(\n",
    "    width=700,\n",
    "    height=700,\n",
    "    sliders=[{\n",
    "        \"steps\": [{\"label\": str(year), \"method\": \"animate\", \"args\": [[str(year)], {\"mode\": \"immediate\"}]} for year in evalsRendA['Año'].unique()],\n",
    "        \"currentvalue\": {\"prefix\": \"Año: \"}\n",
    "    }]\n",
    ")\n",
    "\n",
    "fig.show()"
   ]
  },
  {
   "cell_type": "markdown",
   "metadata": {
    "id": "OB8FGd082V0-"
   },
   "source": [
    "### Mapa de Riesgo"
   ]
  },
  {
   "cell_type": "code",
   "execution_count": null,
   "metadata": {
    "colab": {
     "base_uri": "https://localhost:8080/",
     "height": 865
    },
    "id": "MUd2Qo4M8q-D",
    "outputId": "5cfd1524-6c49-4c1f-de2d-fb0451b3d6c9"
   },
   "outputs": [],
   "source": [
    "# @title Mapa de Riesgo Agrícola Folium\n",
    "\n",
    "riesgoAgricola = riesgo_por_departamento.groupby('CodDep')['riesgo_agricola'].mean().reset_index()\n",
    "\n",
    "m = folium.Map(location=[4.5709, -74.2973], zoom_start=6)\n",
    "# m = folium.Map(location=[4.5709, -74.2973], zoom_start=6, width='50%', height='70%')\n",
    "\n",
    "# area_dict = evalsSemb.set_index('CodDep')['Área Sembrada (ha)'].to_dict()\n",
    "\n",
    "folium.Choropleth(\n",
    "    geo_data=colombia_geojson,\n",
    "    data=riesgoAgricola,\n",
    "    columns=['CodDep', 'riesgo_agricola'],\n",
    "    key_on='feature.properties.DPTO',\n",
    "    fill_color='YlOrRd',\n",
    "    fill_opacity=0.9,\n",
    "    line_opacity=0.2,\n",
    "    legend_name='Índice de Riesgo Agrícola',\n",
    "    highlight=True,\n",
    "    line_color='black',\n",
    "    nan_fill_opacity=0.075,\n",
    "    nan_fill_color='green',\n",
    ").add_to(m)\n",
    "\n",
    "m"
   ]
  }
 ],
 "metadata": {
  "colab": {
   "collapsed_sections": [
    "FXshhtvH6puf",
    "0dlwLD1y09AW",
    "LbCBR0A31Cce"
   ],
   "provenance": []
  },
  "kernelspec": {
   "display_name": "Python 3",
   "name": "python3"
  },
  "language_info": {
   "name": "python",
   "version": "3.11.9"
  }
 },
 "nbformat": 4,
 "nbformat_minor": 0
}
